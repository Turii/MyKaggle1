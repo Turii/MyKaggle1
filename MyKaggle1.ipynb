{
 "cells": [
  {
   "cell_type": "code",
   "execution_count": 1,
   "metadata": {
    "colab": {
     "base_uri": "https://localhost:8080/",
     "height": 395
    },
    "id": "VO_qVi75tfJv",
    "outputId": "053485b5-186e-459b-c5ce-bebac47c2275"
   },
   "outputs": [],
   "source": [
    "#!pip install kaggle\n",
    "\n",
    "# Завантаження kaggle.json файлу з API ключем\n",
    "import os\n",
    "import json\n",
    "import shutil\n",
    "import kaggle\n",
    "\n",
    "kaggle_json_path = os.path.expanduser('~/.kaggle/kaggle.json')\n",
    "# kaggle_json_path = 'kaggle.json'\n",
    "target_path = os.path.expanduser('~/.kaggle/kaggle.json')\n",
    "# Ensure the .kaggle directory exists\n",
    "# os.makedirs(os.path.expanduser('~/.kaggle'), exist_ok=True)\n",
    "os.makedirs(os.path.expanduser('~/.kaggle'), exist_ok=True)\n",
    "# Copy the kaggle.json file to the .kaggle directory\n",
    "#with open(kaggle_json_path, 'r') as f:\n",
    "#    kaggle_data = json.load(f)\n",
    "\n",
    "#with open(os.path.expanduser('~/.kaggle/kaggle.json'), 'w') as f:\n",
    "#    json.dump(kaggle_data, f)\n",
    "\n",
    "# Set permissions for the kaggle.json file\n",
    "#os.chmod(os.path.expanduser('~/.kaggle/kaggle.json'), 0o600)\n",
    "#shutil.copyfile(kaggle_json_path, target_path)\n",
    "\n",
    "os.chmod(target_path, 0o600)\n",
    "\n",
    "# Перевірка доступності API ключа шляхом завантаження загальнодоступного датасету\n",
    "# !kaggle datasets download -d zynicide/wine-reviews\n",
    "\n",
    "#!kaggle datasets download -d zynicide/wine-reviews -p .\n"
   ]
  },
  {
   "cell_type": "code",
   "execution_count": 2,
   "metadata": {
    "colab": {
     "base_uri": "https://localhost:8080/"
    },
    "id": "4-arDrbr63Fi",
    "outputId": "5a778501-74f7-4014-e51f-0d2dc74b3b35"
   },
   "outputs": [],
   "source": [
    "import zipfile\n",
    "\n",
    "with zipfile.ZipFile('wine-reviews.zip', 'r') as zip_ref:\n",
    "    zip_ref.extractall('.')"
   ]
  },
  {
   "cell_type": "code",
   "execution_count": 3,
   "metadata": {
    "colab": {
     "base_uri": "https://localhost:8080/",
     "height": 300
    },
    "id": "Ojr8FhI1EqGg",
    "outputId": "2c1feb74-c19a-486c-99ab-8fe32baf7203"
   },
   "outputs": [
    {
     "data": {
      "text/html": [
       "<div>\n",
       "<style scoped>\n",
       "    .dataframe tbody tr th:only-of-type {\n",
       "        vertical-align: middle;\n",
       "    }\n",
       "\n",
       "    .dataframe tbody tr th {\n",
       "        vertical-align: top;\n",
       "    }\n",
       "\n",
       "    .dataframe thead th {\n",
       "        text-align: right;\n",
       "    }\n",
       "</style>\n",
       "<table border=\"1\" class=\"dataframe\">\n",
       "  <thead>\n",
       "    <tr style=\"text-align: right;\">\n",
       "      <th></th>\n",
       "      <th>Unnamed: 0</th>\n",
       "      <th>points</th>\n",
       "      <th>price</th>\n",
       "    </tr>\n",
       "  </thead>\n",
       "  <tbody>\n",
       "    <tr>\n",
       "      <th>count</th>\n",
       "      <td>150930.000000</td>\n",
       "      <td>150930.000000</td>\n",
       "      <td>137235.000000</td>\n",
       "    </tr>\n",
       "    <tr>\n",
       "      <th>mean</th>\n",
       "      <td>75464.500000</td>\n",
       "      <td>87.888418</td>\n",
       "      <td>33.131482</td>\n",
       "    </tr>\n",
       "    <tr>\n",
       "      <th>std</th>\n",
       "      <td>43569.882402</td>\n",
       "      <td>3.222392</td>\n",
       "      <td>36.322536</td>\n",
       "    </tr>\n",
       "    <tr>\n",
       "      <th>min</th>\n",
       "      <td>0.000000</td>\n",
       "      <td>80.000000</td>\n",
       "      <td>4.000000</td>\n",
       "    </tr>\n",
       "    <tr>\n",
       "      <th>25%</th>\n",
       "      <td>37732.250000</td>\n",
       "      <td>86.000000</td>\n",
       "      <td>16.000000</td>\n",
       "    </tr>\n",
       "    <tr>\n",
       "      <th>50%</th>\n",
       "      <td>75464.500000</td>\n",
       "      <td>88.000000</td>\n",
       "      <td>24.000000</td>\n",
       "    </tr>\n",
       "    <tr>\n",
       "      <th>75%</th>\n",
       "      <td>113196.750000</td>\n",
       "      <td>90.000000</td>\n",
       "      <td>40.000000</td>\n",
       "    </tr>\n",
       "    <tr>\n",
       "      <th>max</th>\n",
       "      <td>150929.000000</td>\n",
       "      <td>100.000000</td>\n",
       "      <td>2300.000000</td>\n",
       "    </tr>\n",
       "  </tbody>\n",
       "</table>\n",
       "</div>"
      ],
      "text/plain": [
       "          Unnamed: 0         points          price\n",
       "count  150930.000000  150930.000000  137235.000000\n",
       "mean    75464.500000      87.888418      33.131482\n",
       "std     43569.882402       3.222392      36.322536\n",
       "min         0.000000      80.000000       4.000000\n",
       "25%     37732.250000      86.000000      16.000000\n",
       "50%     75464.500000      88.000000      24.000000\n",
       "75%    113196.750000      90.000000      40.000000\n",
       "max    150929.000000     100.000000    2300.000000"
      ]
     },
     "execution_count": 3,
     "metadata": {},
     "output_type": "execute_result"
    }
   ],
   "source": [
    "import pandas as pd\n",
    "\n",
    "# Завантажте дані з CSV файлу у DataFrame\n",
    "wine_data = pd.read_csv('winemag-data_first150k.csv')\n",
    "\n",
    "# Викличте метод describe для DataFrame\n",
    "wine_data.describe()"
   ]
  },
  {
   "cell_type": "code",
   "execution_count": 5,
   "metadata": {
    "colab": {
     "base_uri": "https://localhost:8080/",
     "height": 310
    },
    "id": "mtDk8l1SOLyu",
    "outputId": "7ccfcad3-e2a5-406c-e2af-62db8ab7e3de"
   },
   "outputs": [
    {
     "name": "stdout",
     "output_type": "stream",
     "text": [
      "   Unnamed: 0 country                                        description  \\\n",
      "0           0      US  This tremendous 100% varietal wine hails from ...   \n",
      "1           1   Spain  Ripe aromas of fig, blackberry and cassis are ...   \n",
      "2           2      US  Mac Watson honors the memory of a wine once ma...   \n",
      "3           3      US  This spent 20 months in 30% new French oak, an...   \n",
      "4           4  France  This is the top wine from La Bégude, named aft...   \n",
      "\n",
      "                            designation  points  price        province  \\\n",
      "0                     Martha's Vineyard      96  235.0      California   \n",
      "1  Carodorum Selección Especial Reserva      96  110.0  Northern Spain   \n",
      "2         Special Selected Late Harvest      96   90.0      California   \n",
      "3                               Reserve      96   65.0          Oregon   \n",
      "4                            La Brûlade      95   66.0        Provence   \n",
      "\n",
      "            region_1           region_2             variety  \\\n",
      "0        Napa Valley               Napa  Cabernet Sauvignon   \n",
      "1               Toro                NaN       Tinta de Toro   \n",
      "2     Knights Valley             Sonoma     Sauvignon Blanc   \n",
      "3  Willamette Valley  Willamette Valley          Pinot Noir   \n",
      "4             Bandol                NaN  Provence red blend   \n",
      "\n",
      "                    winery  \n",
      "0                    Heitz  \n",
      "1  Bodega Carmen Rodríguez  \n",
      "2                 Macauley  \n",
      "3                    Ponzi  \n",
      "4     Domaine de la Bégude  \n"
     ]
    }
   ],
   "source": [
    "wine_data.head()\n",
    "print(wine_data.head())"
   ]
  },
  {
   "cell_type": "code",
   "execution_count": 6,
   "metadata": {
    "colab": {
     "base_uri": "https://localhost:8080/",
     "height": 310
    },
    "id": "NcjQUCPxOUCw",
    "outputId": "058cb2dc-302a-42a8-e9a3-cb354baea0ed"
   },
   "outputs": [
    {
     "name": "stdout",
     "output_type": "stream",
     "text": [
      "        Unnamed: 0 country                                        description  \\\n",
      "150925      150925   Italy  Many people feel Fiano represents southern Ita...   \n",
      "150926      150926  France  Offers an intriguing nose with ginger, lime an...   \n",
      "150927      150927   Italy  This classic example comes from a cru vineyard...   \n",
      "150928      150928  France  A perfect salmon shade, with scents of peaches...   \n",
      "150929      150929   Italy  More Pinot Grigios should taste like this. A r...   \n",
      "\n",
      "            designation  points  price            province           region_1  \\\n",
      "150925              NaN      91   20.0      Southern Italy  Fiano di Avellino   \n",
      "150926   Cuvée Prestige      91   27.0           Champagne          Champagne   \n",
      "150927    Terre di Dora      91   20.0      Southern Italy  Fiano di Avellino   \n",
      "150928  Grand Brut Rosé      90   52.0           Champagne          Champagne   \n",
      "150929              NaN      90   15.0  Northeastern Italy         Alto Adige   \n",
      "\n",
      "       region_2          variety                 winery  \n",
      "150925      NaN      White Blend  Feudi di San Gregorio  \n",
      "150926      NaN  Champagne Blend              H.Germain  \n",
      "150927      NaN      White Blend              Terredora  \n",
      "150928      NaN  Champagne Blend                 Gosset  \n",
      "150929      NaN     Pinot Grigio          Alois Lageder  \n"
     ]
    }
   ],
   "source": [
    "wine_data.tail()\n",
    "print(wine_data.tail())"
   ]
  },
  {
   "cell_type": "code",
   "execution_count": 7,
   "metadata": {
    "colab": {
     "base_uri": "https://localhost:8080/"
    },
    "id": "Ow3af3IkOU9F",
    "outputId": "298c22ca-a349-4b39-c271-69dec9cb02b8"
   },
   "outputs": [
    {
     "data": {
      "text/plain": [
       "0            Napa Valley\n",
       "1                   Toro\n",
       "2         Knights Valley\n",
       "3      Willamette Valley\n",
       "4                 Bandol\n",
       "5                   Toro\n",
       "6                   Toro\n",
       "7                   Toro\n",
       "8     Chehalem Mountains\n",
       "9           Sonoma Coast\n",
       "10                Collio\n",
       "11          Ribbon Ridge\n",
       "Name: region_1, dtype: object"
      ]
     },
     "execution_count": 7,
     "metadata": {},
     "output_type": "execute_result"
    }
   ],
   "source": [
    "wine_data['region_1'].head(12)"
   ]
  },
  {
   "cell_type": "code",
   "execution_count": 8,
   "metadata": {},
   "outputs": [
    {
     "name": "stdout",
     "output_type": "stream",
     "text": [
      "\n",
      "Унікальні країни: ['US' 'Spain' 'France' 'Italy' 'New Zealand' 'Bulgaria' 'Argentina'\n",
      " 'Australia' 'Portugal' 'Israel' 'South Africa' 'Greece' 'Chile' 'Morocco'\n",
      " 'Romania' 'Germany' 'Canada' 'Moldova' 'Hungary' 'Austria' 'Croatia'\n",
      " 'Slovenia' nan 'India' 'Turkey' 'Macedonia' 'Lebanon' 'Serbia' 'Uruguay'\n",
      " 'Switzerland' 'Albania' 'Bosnia and Herzegovina' 'Brazil' 'Cyprus'\n",
      " 'Lithuania' 'Japan' 'China' 'South Korea' 'Ukraine' 'England' 'Mexico'\n",
      " 'Georgia' 'Montenegro' 'Luxembourg' 'Slovakia' 'Czech Republic' 'Egypt'\n",
      " 'Tunisia' 'US-France']\n"
     ]
    }
   ],
   "source": [
    "#wine_data['country'].head(10)\n",
    "unique_countries = wine_data['country'].unique()\n",
    "print(f\"\\nУнікальні країни: {unique_countries}\")"
   ]
  },
  {
   "cell_type": "code",
   "execution_count": 9,
   "metadata": {},
   "outputs": [
    {
     "name": "stdout",
     "output_type": "stream",
     "text": [
      "\n",
      "Перші 15 рядків колонки 'country':\n",
      "0         US\n",
      "1      Spain\n",
      "2         US\n",
      "3         US\n",
      "4     France\n",
      "5      Spain\n",
      "6      Spain\n",
      "7      Spain\n",
      "8         US\n",
      "9         US\n",
      "10     Italy\n",
      "11        US\n",
      "12        US\n",
      "13    France\n",
      "14        US\n",
      "Name: country, dtype: object\n",
      "\n",
      "Унікальні країни: ['US' 'Spain' 'France' 'Italy' 'New Zealand' 'Bulgaria' 'Argentina'\n",
      " 'Australia' 'Portugal' 'Israel' 'South Africa' 'Greece' 'Chile' 'Morocco'\n",
      " 'Romania' 'Germany' 'Canada' 'Moldova' 'Hungary' 'Austria' 'Croatia'\n",
      " 'Slovenia' nan 'India' 'Turkey' 'Macedonia' 'Lebanon' 'Serbia' 'Uruguay'\n",
      " 'Switzerland' 'Albania' 'Bosnia and Herzegovina' 'Brazil' 'Cyprus'\n",
      " 'Lithuania' 'Japan' 'China' 'South Korea' 'Ukraine' 'England' 'Mexico'\n",
      " 'Georgia' 'Montenegro' 'Luxembourg' 'Slovakia' 'Czech Republic' 'Egypt'\n",
      " 'Tunisia' 'US-France']\n",
      "\n",
      "Кількість унікальних країн: 49\n"
     ]
    }
   ],
   "source": [
    "wine_data['country'].head(15)\n",
    "# Перевіримо, чи немає якихось проблем з даними\n",
    "print(\"\\nПерші 15 рядків колонки 'country':\")\n",
    "print(wine_data['country'].head(15))\n",
    "# Перевіримо кількість унікальних значень в колонці 'country'\n",
    "unique_countries = wine_data['country'].unique()\n",
    "print(f\"\\nУнікальні країни: {unique_countries}\")\n",
    "print(f\"\\nКількість унікальних країн: {len(unique_countries)}\")"
   ]
  },
  {
   "cell_type": "code",
   "execution_count": 10,
   "metadata": {},
   "outputs": [
    {
     "data": {
      "text/plain": [
       "0     96\n",
       "1     96\n",
       "2     96\n",
       "3     96\n",
       "4     95\n",
       "5     95\n",
       "6     95\n",
       "7     95\n",
       "8     95\n",
       "9     95\n",
       "10    95\n",
       "11    95\n",
       "Name: points, dtype: int64"
      ]
     },
     "execution_count": 10,
     "metadata": {},
     "output_type": "execute_result"
    }
   ],
   "source": [
    "wine_data['points'].head(12)"
   ]
  },
  {
   "cell_type": "code",
   "execution_count": 11,
   "metadata": {
    "colab": {
     "base_uri": "https://localhost:8080/"
    },
    "id": "446XdBmrOVtg",
    "outputId": "d3b92aca-d22e-424c-c4b6-bfa1a88f020a"
   },
   "outputs": [
    {
     "data": {
      "text/plain": [
       "points\n",
       "80      17.224236\n",
       "81      17.665078\n",
       "82      19.171879\n",
       "83      18.013604\n",
       "84      19.367885\n",
       "85      20.055067\n",
       "86      21.816528\n",
       "87      24.588279\n",
       "88      27.831296\n",
       "89      32.538375\n",
       "90      37.357817\n",
       "91      43.755835\n",
       "92      52.303609\n",
       "93      66.425438\n",
       "94      81.937812\n",
       "95     108.927012\n",
       "96     132.350970\n",
       "97     178.000000\n",
       "98     232.131579\n",
       "99     289.525000\n",
       "100    401.583333\n",
       "Name: price, dtype: float64"
      ]
     },
     "execution_count": 11,
     "metadata": {},
     "output_type": "execute_result"
    }
   ],
   "source": [
    "# Групування по стовпцю 'points' і підрахунок середньої ціни\n",
    "wine_data.groupby('points')['price'].mean()"
   ]
  },
  {
   "cell_type": "code",
   "execution_count": 12,
   "metadata": {
    "colab": {
     "base_uri": "https://localhost:8080/",
     "height": 412
    },
    "id": "jQ-brX5sOWNy",
    "outputId": "f95e8503-298b-42d7-cec8-010534648a00"
   },
   "outputs": [
    {
     "data": {
      "text/html": [
       "<div>\n",
       "<style scoped>\n",
       "    .dataframe tbody tr th:only-of-type {\n",
       "        vertical-align: middle;\n",
       "    }\n",
       "\n",
       "    .dataframe tbody tr th {\n",
       "        vertical-align: top;\n",
       "    }\n",
       "\n",
       "    .dataframe thead th {\n",
       "        text-align: right;\n",
       "    }\n",
       "</style>\n",
       "<table border=\"1\" class=\"dataframe\">\n",
       "  <thead>\n",
       "    <tr style=\"text-align: right;\">\n",
       "      <th></th>\n",
       "      <th>Unnamed: 0</th>\n",
       "      <th>country</th>\n",
       "      <th>description</th>\n",
       "      <th>designation</th>\n",
       "      <th>points</th>\n",
       "      <th>price</th>\n",
       "      <th>province</th>\n",
       "      <th>region_1</th>\n",
       "      <th>region_2</th>\n",
       "      <th>variety</th>\n",
       "      <th>winery</th>\n",
       "    </tr>\n",
       "  </thead>\n",
       "  <tbody>\n",
       "    <tr>\n",
       "      <th>count</th>\n",
       "      <td>150930.000000</td>\n",
       "      <td>150925</td>\n",
       "      <td>150930</td>\n",
       "      <td>105195</td>\n",
       "      <td>150930.000000</td>\n",
       "      <td>137235.000000</td>\n",
       "      <td>150925</td>\n",
       "      <td>125870</td>\n",
       "      <td>60953</td>\n",
       "      <td>150930</td>\n",
       "      <td>150930</td>\n",
       "    </tr>\n",
       "    <tr>\n",
       "      <th>unique</th>\n",
       "      <td>NaN</td>\n",
       "      <td>48</td>\n",
       "      <td>97821</td>\n",
       "      <td>30621</td>\n",
       "      <td>NaN</td>\n",
       "      <td>NaN</td>\n",
       "      <td>455</td>\n",
       "      <td>1236</td>\n",
       "      <td>18</td>\n",
       "      <td>632</td>\n",
       "      <td>14810</td>\n",
       "    </tr>\n",
       "    <tr>\n",
       "      <th>top</th>\n",
       "      <td>NaN</td>\n",
       "      <td>US</td>\n",
       "      <td>92-94 Barrel sample. A rounded wine, its tanni...</td>\n",
       "      <td>Reserve</td>\n",
       "      <td>NaN</td>\n",
       "      <td>NaN</td>\n",
       "      <td>California</td>\n",
       "      <td>Napa Valley</td>\n",
       "      <td>Central Coast</td>\n",
       "      <td>Chardonnay</td>\n",
       "      <td>Williams Selyem</td>\n",
       "    </tr>\n",
       "    <tr>\n",
       "      <th>freq</th>\n",
       "      <td>NaN</td>\n",
       "      <td>62397</td>\n",
       "      <td>6</td>\n",
       "      <td>2752</td>\n",
       "      <td>NaN</td>\n",
       "      <td>NaN</td>\n",
       "      <td>44508</td>\n",
       "      <td>6209</td>\n",
       "      <td>13057</td>\n",
       "      <td>14482</td>\n",
       "      <td>374</td>\n",
       "    </tr>\n",
       "    <tr>\n",
       "      <th>mean</th>\n",
       "      <td>75464.500000</td>\n",
       "      <td>NaN</td>\n",
       "      <td>NaN</td>\n",
       "      <td>NaN</td>\n",
       "      <td>87.888418</td>\n",
       "      <td>33.131482</td>\n",
       "      <td>NaN</td>\n",
       "      <td>NaN</td>\n",
       "      <td>NaN</td>\n",
       "      <td>NaN</td>\n",
       "      <td>NaN</td>\n",
       "    </tr>\n",
       "    <tr>\n",
       "      <th>std</th>\n",
       "      <td>43569.882402</td>\n",
       "      <td>NaN</td>\n",
       "      <td>NaN</td>\n",
       "      <td>NaN</td>\n",
       "      <td>3.222392</td>\n",
       "      <td>36.322536</td>\n",
       "      <td>NaN</td>\n",
       "      <td>NaN</td>\n",
       "      <td>NaN</td>\n",
       "      <td>NaN</td>\n",
       "      <td>NaN</td>\n",
       "    </tr>\n",
       "    <tr>\n",
       "      <th>min</th>\n",
       "      <td>0.000000</td>\n",
       "      <td>NaN</td>\n",
       "      <td>NaN</td>\n",
       "      <td>NaN</td>\n",
       "      <td>80.000000</td>\n",
       "      <td>4.000000</td>\n",
       "      <td>NaN</td>\n",
       "      <td>NaN</td>\n",
       "      <td>NaN</td>\n",
       "      <td>NaN</td>\n",
       "      <td>NaN</td>\n",
       "    </tr>\n",
       "    <tr>\n",
       "      <th>25%</th>\n",
       "      <td>37732.250000</td>\n",
       "      <td>NaN</td>\n",
       "      <td>NaN</td>\n",
       "      <td>NaN</td>\n",
       "      <td>86.000000</td>\n",
       "      <td>16.000000</td>\n",
       "      <td>NaN</td>\n",
       "      <td>NaN</td>\n",
       "      <td>NaN</td>\n",
       "      <td>NaN</td>\n",
       "      <td>NaN</td>\n",
       "    </tr>\n",
       "    <tr>\n",
       "      <th>50%</th>\n",
       "      <td>75464.500000</td>\n",
       "      <td>NaN</td>\n",
       "      <td>NaN</td>\n",
       "      <td>NaN</td>\n",
       "      <td>88.000000</td>\n",
       "      <td>24.000000</td>\n",
       "      <td>NaN</td>\n",
       "      <td>NaN</td>\n",
       "      <td>NaN</td>\n",
       "      <td>NaN</td>\n",
       "      <td>NaN</td>\n",
       "    </tr>\n",
       "    <tr>\n",
       "      <th>75%</th>\n",
       "      <td>113196.750000</td>\n",
       "      <td>NaN</td>\n",
       "      <td>NaN</td>\n",
       "      <td>NaN</td>\n",
       "      <td>90.000000</td>\n",
       "      <td>40.000000</td>\n",
       "      <td>NaN</td>\n",
       "      <td>NaN</td>\n",
       "      <td>NaN</td>\n",
       "      <td>NaN</td>\n",
       "      <td>NaN</td>\n",
       "    </tr>\n",
       "    <tr>\n",
       "      <th>max</th>\n",
       "      <td>150929.000000</td>\n",
       "      <td>NaN</td>\n",
       "      <td>NaN</td>\n",
       "      <td>NaN</td>\n",
       "      <td>100.000000</td>\n",
       "      <td>2300.000000</td>\n",
       "      <td>NaN</td>\n",
       "      <td>NaN</td>\n",
       "      <td>NaN</td>\n",
       "      <td>NaN</td>\n",
       "      <td>NaN</td>\n",
       "    </tr>\n",
       "  </tbody>\n",
       "</table>\n",
       "</div>"
      ],
      "text/plain": [
       "           Unnamed: 0 country  \\\n",
       "count   150930.000000  150925   \n",
       "unique            NaN      48   \n",
       "top               NaN      US   \n",
       "freq              NaN   62397   \n",
       "mean     75464.500000     NaN   \n",
       "std      43569.882402     NaN   \n",
       "min          0.000000     NaN   \n",
       "25%      37732.250000     NaN   \n",
       "50%      75464.500000     NaN   \n",
       "75%     113196.750000     NaN   \n",
       "max     150929.000000     NaN   \n",
       "\n",
       "                                              description designation  \\\n",
       "count                                              150930      105195   \n",
       "unique                                              97821       30621   \n",
       "top     92-94 Barrel sample. A rounded wine, its tanni...     Reserve   \n",
       "freq                                                    6        2752   \n",
       "mean                                                  NaN         NaN   \n",
       "std                                                   NaN         NaN   \n",
       "min                                                   NaN         NaN   \n",
       "25%                                                   NaN         NaN   \n",
       "50%                                                   NaN         NaN   \n",
       "75%                                                   NaN         NaN   \n",
       "max                                                   NaN         NaN   \n",
       "\n",
       "               points          price    province     region_1       region_2  \\\n",
       "count   150930.000000  137235.000000      150925       125870          60953   \n",
       "unique            NaN            NaN         455         1236             18   \n",
       "top               NaN            NaN  California  Napa Valley  Central Coast   \n",
       "freq              NaN            NaN       44508         6209          13057   \n",
       "mean        87.888418      33.131482         NaN          NaN            NaN   \n",
       "std          3.222392      36.322536         NaN          NaN            NaN   \n",
       "min         80.000000       4.000000         NaN          NaN            NaN   \n",
       "25%         86.000000      16.000000         NaN          NaN            NaN   \n",
       "50%         88.000000      24.000000         NaN          NaN            NaN   \n",
       "75%         90.000000      40.000000         NaN          NaN            NaN   \n",
       "max        100.000000    2300.000000         NaN          NaN            NaN   \n",
       "\n",
       "           variety           winery  \n",
       "count       150930           150930  \n",
       "unique         632            14810  \n",
       "top     Chardonnay  Williams Selyem  \n",
       "freq         14482              374  \n",
       "mean           NaN              NaN  \n",
       "std            NaN              NaN  \n",
       "min            NaN              NaN  \n",
       "25%            NaN              NaN  \n",
       "50%            NaN              NaN  \n",
       "75%            NaN              NaN  \n",
       "max            NaN              NaN  "
      ]
     },
     "execution_count": 12,
     "metadata": {},
     "output_type": "execute_result"
    }
   ],
   "source": [
    "wine_data.describe(include='all')"
   ]
  },
  {
   "cell_type": "code",
   "execution_count": 13,
   "metadata": {
    "colab": {
     "base_uri": "https://localhost:8080/"
    },
    "id": "TyI5nmYDOW9L",
    "outputId": "d3879b8d-0e09-4fb7-c403-191b66007054"
   },
   "outputs": [
    {
     "data": {
      "text/plain": [
       "Index(['Unnamed: 0', 'country', 'description', 'designation', 'points',\n",
       "       'price', 'province', 'region_1', 'region_2', 'variety', 'winery'],\n",
       "      dtype='object')"
      ]
     },
     "execution_count": 13,
     "metadata": {},
     "output_type": "execute_result"
    }
   ],
   "source": [
    "wine_data.columns\n"
   ]
  },
  {
   "cell_type": "code",
   "execution_count": 14,
   "metadata": {
    "colab": {
     "base_uri": "https://localhost:8080/"
    },
    "id": "3PYgpnZVT-HF",
    "outputId": "29856aaa-340a-4a5c-bb69-141f3cc6cd0d"
   },
   "outputs": [
    {
     "name": "stdout",
     "output_type": "stream",
     "text": [
      "Unnamed: 0     0\n",
      "country        0\n",
      "description    0\n",
      "designation    0\n",
      "points         0\n",
      "price          0\n",
      "province       0\n",
      "region_1       0\n",
      "region_2       0\n",
      "variety        0\n",
      "winery         0\n",
      "dtype: int64\n"
     ]
    }
   ],
   "source": [
    "#метод dropna() не змінює DataFrame на місці за замовчуванням\n",
    "wine_data.dropna(axis=0)\n",
    "#Зберегти результат в нову змінну\n",
    "#wine_data_cleaned = wine_data.dropna(axis=0)\n",
    "#використати параметр inplace=True для зміни DataFrame на місці\n",
    "wine_data.dropna(axis=0, inplace=True)\n",
    "#перевірити, чи залишились пусті клітинки\n",
    "print(wine_data.isnull().sum())\n"
   ]
  },
  {
   "cell_type": "code",
   "execution_count": 15,
   "metadata": {},
   "outputs": [
    {
     "name": "stdout",
     "output_type": "stream",
     "text": [
      "\n",
      "Типи даних у фічах перед навчанням моделі:\n",
      "points        int64\n",
      "country_US    int64\n",
      "dtype: object\n",
      "Модель успішно навчена!\n"
     ]
    }
   ],
   "source": [
    "import pandas as pd\n",
    "from sklearn.tree import DecisionTreeRegressor\n",
    "\n",
    "# Припустимо, що дані вже завантажені у змінну wine_data\n",
    "\n",
    "# Вибираємо фічі для навчання\n",
    "wine_features = ['country', 'points']\n",
    "\n",
    "# Виконуємо One-Hot Encoding для колонки 'country'\n",
    "wine_data_encoded = pd.get_dummies(wine_data[wine_features], columns=['country'])\n",
    "\n",
    "# Перетворимо значення True на 1, а False на 0 у закодованих колонках\n",
    "for col in wine_data_encoded.columns:\n",
    "    if wine_data_encoded[col].dtype == 'bool':\n",
    "        wine_data_encoded[col] = wine_data_encoded[col].astype(int)\n",
    "\n",
    "# Визначимо цільову змінну (price)\n",
    "y = wine_data['price']\n",
    "\n",
    "# Вибираємо фічі для навчання (після кодування)\n",
    "x = wine_data_encoded\n",
    "\n",
    "# Перевіримо типи даних у фічах, щоб переконатися, що всі вони числові\n",
    "print(\"\\nТипи даних у фічах перед навчанням моделі:\")\n",
    "print(x.dtypes)\n",
    "\n",
    "# Навчимо модель\n",
    "wine_model = DecisionTreeRegressor(random_state=1)\n",
    "wine_model.fit(x, y)\n",
    "\n",
    "print(\"Модель успішно навчена!\")\n",
    "\n"
   ]
  },
  {
   "cell_type": "code",
   "execution_count": 14,
   "metadata": {},
   "outputs": [
    {
     "name": "stdout",
     "output_type": "stream",
     "text": [
      "\n",
      "Типи даних у фічах перед навчанням моделі:\n",
      "points        int64\n",
      "country_US    int64\n",
      "dtype: object\n",
      "\n",
      "Прогнози на валідаційних даних:\n",
      "[29.60950081 35.58232932 23.71071429 26.02799789 29.60950081]\n",
      "\n",
      "Справжні значення на валідаційних даних:\n",
      "100243    28.0\n",
      "81551     25.0\n",
      "100868    23.0\n",
      "106107    20.0\n",
      "136444    39.0\n",
      "Name: price, dtype: float64\n",
      "\n",
      "Різниця між прогнозованими і справжніми значеннями:\n",
      "[ 1.60950081 10.58232932  0.71071429  6.02799789 -9.39049919]\n",
      "\n",
      "Метрики оцінки моделі:\n",
      "MAE (Mean Absolute Error): 13.813559276878022\n",
      "MSE (Mean Squared Error): 416.8833351667172\n",
      "RMSE (Root Mean Squared Error): 20.417721106105773\n"
     ]
    }
   ],
   "source": [
    "import pandas as pd\n",
    "from sklearn.tree import DecisionTreeRegressor\n",
    "from sklearn.model_selection import train_test_split\n",
    "from sklearn.metrics import mean_absolute_error, mean_squared_error\n",
    "import numpy as np\n",
    "\n",
    "\n",
    "# Вибираємо фічі для навчання\n",
    "wine_features = ['country', 'points']\n",
    "\n",
    "# Виконуємо One-Hot Encoding для колонки 'country'\n",
    "wine_data_encoded = pd.get_dummies(wine_data[wine_features], columns=['country'])\n",
    "\n",
    "# Перетворимо значення True на 1, а False на 0 у закодованих колонках\n",
    "for col in wine_data_encoded.columns:\n",
    "    if wine_data_encoded[col].dtype == 'bool':\n",
    "        wine_data_encoded[col] = wine_data_encoded[col].astype(int)\n",
    "\n",
    "# Визначимо цільову змінну (price)\n",
    "y = wine_data['price']\n",
    "\n",
    "# Вибираємо фічі для навчання (після кодування)\n",
    "X = wine_data_encoded\n",
    "\n",
    "# Перевіримо типи даних у фічах, щоб переконатися, що всі вони числові\n",
    "print(\"\\nТипи даних у фічах перед навчанням моделі:\")\n",
    "print(X.dtypes)\n",
    "\n",
    "# Розділимо дані на тренувальний і валідаційний набори\n",
    "train_X, val_X, train_y, val_y = train_test_split(X, y, random_state=1)\n",
    "\n",
    "# Навчимо модель на тренувальних даних\n",
    "wine_model = DecisionTreeRegressor(random_state=1)\n",
    "wine_model.fit(train_X, train_y)\n",
    "\n",
    "# Прогнозуємо ціни на валідаційних даних\n",
    "val_predictions = wine_model.predict(val_X)\n",
    "\n",
    "# Виведемо кілька прогнозів для перевірки\n",
    "print(\"\\nПрогнози на валідаційних даних:\")\n",
    "print(val_predictions[:5])\n",
    "\n",
    "# Виведемо справжні значення для порівняння\n",
    "print(\"\\nСправжні значення на валідаційних даних:\")\n",
    "print(val_y.head())\n",
    "\n",
    "# Виведемо різницю між прогнозованими значеннями і справжніми значеннями\n",
    "print(\"\\nРізниця між прогнозованими і справжніми значеннями:\")\n",
    "print(val_predictions[:5] - val_y[:5].values)\n",
    "\n",
    "# Оцінка моделі\n",
    "mae = mean_absolute_error(val_y, val_predictions)\n",
    "mse = mean_squared_error(val_y, val_predictions)\n",
    "rmse = np.sqrt(mse)\n",
    "\n",
    "print(\"\\nМетрики оцінки моделі:\")\n",
    "print(f\"MAE (Mean Absolute Error): {mae}\")\n",
    "print(f\"MSE (Mean Squared Error): {mse}\")\n",
    "print(f\"RMSE (Root Mean Squared Error): {rmse}\")\n",
    "\n"
   ]
  },
  {
   "cell_type": "code",
   "execution_count": 15,
   "metadata": {},
   "outputs": [
    {
     "data": {
      "image/png": "[encoded data removed]",
      "text/plain": [
       "<Figure size 1000x600 with 1 Axes>"
      ]
     },
     "metadata": {},
     "output_type": "display_data"
    },
    {
     "data": {
      "image/png": "[encoded data removed]",
      "text/plain": [
       "<Figure size 1000x600 with 1 Axes>"
      ]
     },
     "metadata": {},
     "output_type": "display_data"
    }
   ],
   "source": [
    "import matplotlib.pyplot as plt\n",
    "\n",
    "# Графік розсіювання для порівняння справжніх і прогнозованих значень\n",
    "plt.figure(figsize=(10, 6))\n",
    "plt.scatter(val_y, val_predictions, alpha=0.5)\n",
    "plt.xlabel('Справжні значення')\n",
    "plt.ylabel('Прогнозовані значення')\n",
    "plt.title('Справжні значення vs Прогнозовані значення')\n",
    "plt.plot([min(val_y), max(val_y)], [min(val_y), max(val_y)], color='red', linestyle='--', lw=2)\n",
    "plt.grid(True)\n",
    "plt.show()\n",
    "\n",
    "# Графік різниці між прогнозованими і справжніми значеннями\n",
    "plt.figure(figsize=(10, 6))\n",
    "plt.scatter(range(len(val_y)), val_predictions - val_y, alpha=0.5)\n",
    "plt.axhline(y=0, color='red', linestyle='--', lw=2)\n",
    "plt.xlabel('Індекс')\n",
    "plt.ylabel('Різниця (Прогноз - Справжнє значення)')\n",
    "plt.title('Різниця між прогнозованими і справжніми значеннями')\n",
    "plt.grid(True)\n",
    "plt.show()"
   ]
  },
  {
   "cell_type": "code",
   "execution_count": 17,
   "metadata": {},
   "outputs": [],
   "source": [
    "# Закодуємо колонку 'country' за допомогою One-Hot Encoding\n",
    "# wine_data_encoded = pd.get_dummies(wine_data, columns=['country'])\n",
    "# print(wine_data_encoded.columns)\n",
    "# Перетворимо значення True на 1, а False на 0 у закодованих колонках\n",
    "# for col in wine_data_encoded.columns:\n",
    "#     if wine_data_encoded[col].dtype == 'bool':\n",
    "#         wine_data_encoded[col] = wine_data_encoded[col].astype(int)\n",
    "\n",
    "# Перевіримо, які нові колонки були створені\n",
    "# print(\"\\nНові закодовані колонки:\")\n",
    "# new_columns = [col for col in wine_data_encoded.columns if col.startswith('country_')]\n",
    "# print(new_columns)\n",
    "\n",
    "# Виведемо значення нових закодованих колонок для перших кількох рядків\n",
    "# print(\"\\nЗначення нових закодованих колонок для перших кількох рядків:\")\n",
    "# print(wine_data_encoded[new_columns].head(15))\n",
    "\n",
    "# Виведемо випадкові рядки, щоб бачити закодовані значення\n",
    "# print(\"\\nВипадкові рядки після кодування:\")\n",
    "# print(wine_data_encoded[new_columns].sample(10))"
   ]
  },
  {
   "cell_type": "code",
   "execution_count": 18,
   "metadata": {
    "colab": {
     "base_uri": "https://localhost:8080/",
     "height": 300
    },
    "id": "S5dTMbwUT_Q7",
    "outputId": "224b215e-4d13-4687-f061-7112c9c1c475"
   },
   "outputs": [],
   "source": [
    "# y = wine_data.price\n",
    "# wine_features = ['country', 'points']\n",
    "# x = wine_data[wine_features]\n",
    "# x.describe()\n",
    "# print(x.describe())\n",
    "\n",
    "# Перевіримо, які фічі ми вибрали\n",
    "# print(wine_features)"
   ]
  },
  {
   "cell_type": "code",
   "execution_count": 19,
   "metadata": {},
   "outputs": [],
   "source": [
    "# Перевіримо типи даних у фічах, щоб переконатися, що всі вони числові\n",
    "# print(\"\\nТипи даних у фічах перед навчанням моделі:\")\n",
    "# print(x.dtypes)"
   ]
  },
  {
   "cell_type": "code",
   "execution_count": 20,
   "metadata": {
    "colab": {
     "base_uri": "https://localhost:8080/",
     "height": 206
    },
    "id": "7E_qcCTZUAFh",
    "outputId": "00dc10d0-3136-40c1-f53a-d0548ab882bd"
   },
   "outputs": [],
   "source": [
    "# x.head()\n",
    "# rint(\"!!!!!!!??!\")"
   ]
  },
  {
   "cell_type": "code",
   "execution_count": 21,
   "metadata": {
    "colab": {
     "base_uri": "https://localhost:8080/",
     "height": 52
    },
    "id": "GSvEPRJDUBQh",
    "outputId": "5e4121cb-4743-4bc4-dc34-183028513077"
   },
   "outputs": [],
   "source": [
    "# from sklearn.tree import DecisionTreeRegressor\n",
    "# wine_model = DecisionTreeRegressor(random_state=1)\n",
    "# wine_model.fit(x, y)"
   ]
  },
  {
   "cell_type": "code",
   "execution_count": 22,
   "metadata": {
    "colab": {
     "base_uri": "https://localhost:8080/"
    },
    "id": "rEbwHupxaRvl",
    "outputId": "6faa5c48-1f96-43fc-a70e-3a4ae8daf613"
   },
   "outputs": [],
   "source": [
    "#print(\"Making predictions for the following 5 wines:\")\n",
    "#print(x.head())\n",
    "#print(\"The predictions are\")\n",
    "#rint(wine_model.predict(x.head()))\n",
    "#predictions = wine_model.predict(x.head())\n",
    "# Виводимо фактичні значення для тих самих будинків\n",
    "#actual_values = y.head().values\n",
    "# Порівнюємо передбачення з фактичними значеннями\n",
    "#comparison = pd.DataFrame({\n",
    "#      'Pedicted': predictions,\n",
    " #     'Actual': actual_values\n",
    "#})\n",
    "#print(comparison)"
   ]
  },
  {
   "cell_type": "code",
   "execution_count": 16,
   "metadata": {
    "id": "rmvKdCEHaR-a"
   },
   "outputs": [
    {
     "name": "stdout",
     "output_type": "stream",
     "text": [
      "The predictions are:\n",
      "[83.70558376 83.70558376 83.70558376 75.52741021 75.52741021]\n",
      "\n",
      "Comparison of predicted and actual values:\n",
      "   Predicted  Actual\n",
      "0  83.705584   235.0\n",
      "1  83.705584    90.0\n",
      "2  83.705584    65.0\n",
      "3  75.527410    65.0\n",
      "4  75.527410    60.0\n"
     ]
    }
   ],
   "source": [
    "predictions = wine_model.predict(x.head())\n",
    "\n",
    "print(\"The predictions are:\")\n",
    "print(predictions)\n",
    "\n",
    "# Виводимо фактичні значення для тих самих зразків\n",
    "actual_values = y.head().values\n",
    "\n",
    "# Порівнюємо передбачення з фактичними значеннями\n",
    "comparison = pd.DataFrame({\n",
    "    'Predicted': predictions,\n",
    "    'Actual': actual_values\n",
    "})\n",
    "\n",
    "print(\"\\nComparison of predicted and actual values:\")\n",
    "print(comparison)"
   ]
  },
  {
   "cell_type": "code",
   "execution_count": null,
   "metadata": {
    "id": "H-6-_aAkaSI7"
   },
   "outputs": [],
   "source": []
  },
  {
   "cell_type": "code",
   "execution_count": null,
   "metadata": {
    "id": "TXpWqSk1aSTM"
   },
   "outputs": [],
   "source": []
  },
  {
   "cell_type": "code",
   "execution_count": null,
   "metadata": {
    "id": "omaqTKKJaScw"
   },
   "outputs": [],
   "source": []
  }
 ],
 "metadata": {
  "colab": {
   "provenance": []
  },
  "kernelspec": {
   "display_name": "myenv",
   "language": "python",
   "name": "python3"
  },
  "language_info": {
   "codemirror_mode": {
    "name": "ipython",
    "version": 3
   },
   "file_extension": ".py",
   "mimetype": "text/x-python",
   "name": "python",
   "nbconvert_exporter": "python",
   "pygments_lexer": "ipython3",
   "version": "3.12.2"
  }
 },
 "nbformat": 4,
 "nbformat_minor": 0
}
