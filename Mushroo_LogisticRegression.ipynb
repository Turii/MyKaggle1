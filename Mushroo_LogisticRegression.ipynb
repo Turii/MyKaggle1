{
 "cells": [
  {
   "cell_type": "code",
   "execution_count": null,
   "metadata": {},
   "outputs": [],
   "source": [
    "# Імпорт бібліотек\n",
    "import pandas as pd  \n",
    "import numpy as np   \n",
    "import matplotlib.pyplot as plt  \n",
    "import seaborn as sns  \n",
    "from sklearn.model_selection import train_test_split  \n",
    "from sklearn.linear_model import LogisticRegression  \n",
    "from sklearn.metrics import matthews_corrcoef, accuracy_score, classification_report, confusion_matrix \n",
    "from sklearn.impute import SimpleImputer\n",
    "\n",
    "import warnings  \n",
    "warnings.filterwarnings('ignore')\n"
   ]
  }
 ],
 "metadata": {
  "language_info": {
   "name": "python"
  }
 },
 "nbformat": 4,
 "nbformat_minor": 2
}
