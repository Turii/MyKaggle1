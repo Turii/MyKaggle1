{
 "cells": [
  {
   "cell_type": "code",
   "execution_count": 1,
   "id": "56e342a7",
   "metadata": {
    "_cell_guid": "b1076dfc-b9ad-4769-8c92-a6c4dae69d19",
    "_uuid": "8f2839f25d086af736a60e9eeb907d3b93b6e0e5",
    "execution": {
     "iopub.execute_input": "2025-03-28T18:40:14.265772Z",
     "iopub.status.busy": "2025-03-28T18:40:14.265335Z",
     "iopub.status.idle": "2025-03-28T18:40:15.387107Z",
     "shell.execute_reply": "2025-03-28T18:40:15.385240Z"
    },
    "papermill": {
     "duration": 1.129702,
     "end_time": "2025-03-28T18:40:15.389274",
     "exception": false,
     "start_time": "2025-03-28T18:40:14.259572",
     "status": "completed"
    },
    "tags": []
   },
   "outputs": [
    {
     "name": "stdout",
     "output_type": "stream",
     "text": [
      "/kaggle/input/playground-series-s5e3/sample_submission.csv\n",
      "/kaggle/input/playground-series-s5e3/train.csv\n",
      "/kaggle/input/playground-series-s5e3/test.csv\n"
     ]
    }
   ],
   "source": [
    "# This Python 3 environment comes with many helpful analytics libraries installed\n",
    "# It is defined by the kaggle/python Docker image: https://github.com/kaggle/docker-python\n",
    "# For example, here's several helpful packages to load\n",
    "\n",
    "import numpy as np # linear algebra\n",
    "import pandas as pd # data processing, CSV file I/O (e.g. pd.read_csv)\n",
    "\n",
    "# Input data files are available in the read-only \"../input/\" directory\n",
    "# For example, running this (by clicking run or pressing Shift+Enter) will list all files under the input directory\n",
    "\n",
    "import os\n",
    "for dirname, _, filenames in os.walk('/kaggle/input'):\n",
    "    for filename in filenames:\n",
    "        print(os.path.join(dirname, filename))\n",
    "\n",
    "# You can write up to 20GB to the current directory (/kaggle/working/) that gets preserved as output when you create a version using \"Save & Run All\" \n",
    "# You can also write temporary files to /kaggle/temp/, but they won't be saved outside of the current session"
   ]
  },
  {
   "cell_type": "code",
   "execution_count": 2,
   "id": "534c64fb",
   "metadata": {
    "execution": {
     "iopub.execute_input": "2025-03-28T18:40:15.399976Z",
     "iopub.status.busy": "2025-03-28T18:40:15.399417Z",
     "iopub.status.idle": "2025-03-28T18:40:15.468495Z",
     "shell.execute_reply": "2025-03-28T18:40:15.466977Z"
    },
    "papermill": {
     "duration": 0.076407,
     "end_time": "2025-03-28T18:40:15.470714",
     "exception": false,
     "start_time": "2025-03-28T18:40:15.394307",
     "status": "completed"
    },
    "tags": []
   },
   "outputs": [
    {
     "data": {
      "text/html": [
       "<div>\n",
       "<style scoped>\n",
       "    .dataframe tbody tr th:only-of-type {\n",
       "        vertical-align: middle;\n",
       "    }\n",
       "\n",
       "    .dataframe tbody tr th {\n",
       "        vertical-align: top;\n",
       "    }\n",
       "\n",
       "    .dataframe thead th {\n",
       "        text-align: right;\n",
       "    }\n",
       "</style>\n",
       "<table border=\"1\" class=\"dataframe\">\n",
       "  <thead>\n",
       "    <tr style=\"text-align: right;\">\n",
       "      <th></th>\n",
       "      <th>id</th>\n",
       "      <th>day</th>\n",
       "      <th>pressure</th>\n",
       "      <th>maxtemp</th>\n",
       "      <th>temparature</th>\n",
       "      <th>mintemp</th>\n",
       "      <th>dewpoint</th>\n",
       "      <th>humidity</th>\n",
       "      <th>cloud</th>\n",
       "      <th>sunshine</th>\n",
       "      <th>winddirection</th>\n",
       "      <th>windspeed</th>\n",
       "      <th>rainfall</th>\n",
       "    </tr>\n",
       "  </thead>\n",
       "  <tbody>\n",
       "    <tr>\n",
       "      <th>0</th>\n",
       "      <td>0</td>\n",
       "      <td>1</td>\n",
       "      <td>1017.4</td>\n",
       "      <td>21.2</td>\n",
       "      <td>20.6</td>\n",
       "      <td>19.9</td>\n",
       "      <td>19.4</td>\n",
       "      <td>87.0</td>\n",
       "      <td>88.0</td>\n",
       "      <td>1.1</td>\n",
       "      <td>60.0</td>\n",
       "      <td>17.2</td>\n",
       "      <td>1</td>\n",
       "    </tr>\n",
       "    <tr>\n",
       "      <th>1</th>\n",
       "      <td>1</td>\n",
       "      <td>2</td>\n",
       "      <td>1019.5</td>\n",
       "      <td>16.2</td>\n",
       "      <td>16.9</td>\n",
       "      <td>15.8</td>\n",
       "      <td>15.4</td>\n",
       "      <td>95.0</td>\n",
       "      <td>91.0</td>\n",
       "      <td>0.0</td>\n",
       "      <td>50.0</td>\n",
       "      <td>21.9</td>\n",
       "      <td>1</td>\n",
       "    </tr>\n",
       "    <tr>\n",
       "      <th>2</th>\n",
       "      <td>2</td>\n",
       "      <td>3</td>\n",
       "      <td>1024.1</td>\n",
       "      <td>19.4</td>\n",
       "      <td>16.1</td>\n",
       "      <td>14.6</td>\n",
       "      <td>9.3</td>\n",
       "      <td>75.0</td>\n",
       "      <td>47.0</td>\n",
       "      <td>8.3</td>\n",
       "      <td>70.0</td>\n",
       "      <td>18.1</td>\n",
       "      <td>1</td>\n",
       "    </tr>\n",
       "    <tr>\n",
       "      <th>3</th>\n",
       "      <td>3</td>\n",
       "      <td>4</td>\n",
       "      <td>1013.4</td>\n",
       "      <td>18.1</td>\n",
       "      <td>17.8</td>\n",
       "      <td>16.9</td>\n",
       "      <td>16.8</td>\n",
       "      <td>95.0</td>\n",
       "      <td>95.0</td>\n",
       "      <td>0.0</td>\n",
       "      <td>60.0</td>\n",
       "      <td>35.6</td>\n",
       "      <td>1</td>\n",
       "    </tr>\n",
       "    <tr>\n",
       "      <th>4</th>\n",
       "      <td>4</td>\n",
       "      <td>5</td>\n",
       "      <td>1021.8</td>\n",
       "      <td>21.3</td>\n",
       "      <td>18.4</td>\n",
       "      <td>15.2</td>\n",
       "      <td>9.6</td>\n",
       "      <td>52.0</td>\n",
       "      <td>45.0</td>\n",
       "      <td>3.6</td>\n",
       "      <td>40.0</td>\n",
       "      <td>24.8</td>\n",
       "      <td>0</td>\n",
       "    </tr>\n",
       "  </tbody>\n",
       "</table>\n",
       "</div>"
      ],
      "text/plain": [
       "   id  day  pressure  maxtemp  temparature  mintemp  dewpoint  humidity  \\\n",
       "0   0    1    1017.4     21.2         20.6     19.9      19.4      87.0   \n",
       "1   1    2    1019.5     16.2         16.9     15.8      15.4      95.0   \n",
       "2   2    3    1024.1     19.4         16.1     14.6       9.3      75.0   \n",
       "3   3    4    1013.4     18.1         17.8     16.9      16.8      95.0   \n",
       "4   4    5    1021.8     21.3         18.4     15.2       9.6      52.0   \n",
       "\n",
       "   cloud  sunshine  winddirection  windspeed  rainfall  \n",
       "0   88.0       1.1           60.0       17.2         1  \n",
       "1   91.0       0.0           50.0       21.9         1  \n",
       "2   47.0       8.3           70.0       18.1         1  \n",
       "3   95.0       0.0           60.0       35.6         1  \n",
       "4   45.0       3.6           40.0       24.8         0  "
      ]
     },
     "execution_count": 2,
     "metadata": {},
     "output_type": "execute_result"
    }
   ],
   "source": [
    "train_path = \"/kaggle/input/playground-series-s5e3/train.csv\"\n",
    "test_path = \"/kaggle/input/playground-series-s5e3/test.csv\"\n",
    "\n",
    "train_data = pd.read_csv(train_path)\n",
    "test_data = pd.read_csv(test_path)\n",
    "\n",
    "train_data.head()"
   ]
  },
  {
   "cell_type": "code",
   "execution_count": 3,
   "id": "81b1b870",
   "metadata": {
    "execution": {
     "iopub.execute_input": "2025-03-28T18:40:15.480720Z",
     "iopub.status.busy": "2025-03-28T18:40:15.480192Z",
     "iopub.status.idle": "2025-03-28T18:40:15.499687Z",
     "shell.execute_reply": "2025-03-28T18:40:15.498410Z"
    },
    "papermill": {
     "duration": 0.02668,
     "end_time": "2025-03-28T18:40:15.501739",
     "exception": false,
     "start_time": "2025-03-28T18:40:15.475059",
     "status": "completed"
    },
    "tags": []
   },
   "outputs": [
    {
     "data": {
      "text/html": [
       "<div>\n",
       "<style scoped>\n",
       "    .dataframe tbody tr th:only-of-type {\n",
       "        vertical-align: middle;\n",
       "    }\n",
       "\n",
       "    .dataframe tbody tr th {\n",
       "        vertical-align: top;\n",
       "    }\n",
       "\n",
       "    .dataframe thead th {\n",
       "        text-align: right;\n",
       "    }\n",
       "</style>\n",
       "<table border=\"1\" class=\"dataframe\">\n",
       "  <thead>\n",
       "    <tr style=\"text-align: right;\">\n",
       "      <th></th>\n",
       "      <th>id</th>\n",
       "      <th>day</th>\n",
       "      <th>pressure</th>\n",
       "      <th>maxtemp</th>\n",
       "      <th>temparature</th>\n",
       "      <th>mintemp</th>\n",
       "      <th>dewpoint</th>\n",
       "      <th>humidity</th>\n",
       "      <th>cloud</th>\n",
       "      <th>sunshine</th>\n",
       "      <th>winddirection</th>\n",
       "      <th>windspeed</th>\n",
       "    </tr>\n",
       "  </thead>\n",
       "  <tbody>\n",
       "    <tr>\n",
       "      <th>0</th>\n",
       "      <td>2190</td>\n",
       "      <td>1</td>\n",
       "      <td>1019.5</td>\n",
       "      <td>17.5</td>\n",
       "      <td>15.8</td>\n",
       "      <td>12.7</td>\n",
       "      <td>14.9</td>\n",
       "      <td>96.0</td>\n",
       "      <td>99.0</td>\n",
       "      <td>0.0</td>\n",
       "      <td>50.0</td>\n",
       "      <td>24.3</td>\n",
       "    </tr>\n",
       "    <tr>\n",
       "      <th>1</th>\n",
       "      <td>2191</td>\n",
       "      <td>2</td>\n",
       "      <td>1016.5</td>\n",
       "      <td>17.5</td>\n",
       "      <td>16.5</td>\n",
       "      <td>15.8</td>\n",
       "      <td>15.1</td>\n",
       "      <td>97.0</td>\n",
       "      <td>99.0</td>\n",
       "      <td>0.0</td>\n",
       "      <td>50.0</td>\n",
       "      <td>35.3</td>\n",
       "    </tr>\n",
       "    <tr>\n",
       "      <th>2</th>\n",
       "      <td>2192</td>\n",
       "      <td>3</td>\n",
       "      <td>1023.9</td>\n",
       "      <td>11.2</td>\n",
       "      <td>10.4</td>\n",
       "      <td>9.4</td>\n",
       "      <td>8.9</td>\n",
       "      <td>86.0</td>\n",
       "      <td>96.0</td>\n",
       "      <td>0.0</td>\n",
       "      <td>40.0</td>\n",
       "      <td>16.9</td>\n",
       "    </tr>\n",
       "    <tr>\n",
       "      <th>3</th>\n",
       "      <td>2193</td>\n",
       "      <td>4</td>\n",
       "      <td>1022.9</td>\n",
       "      <td>20.6</td>\n",
       "      <td>17.3</td>\n",
       "      <td>15.2</td>\n",
       "      <td>9.5</td>\n",
       "      <td>75.0</td>\n",
       "      <td>45.0</td>\n",
       "      <td>7.1</td>\n",
       "      <td>20.0</td>\n",
       "      <td>50.6</td>\n",
       "    </tr>\n",
       "    <tr>\n",
       "      <th>4</th>\n",
       "      <td>2194</td>\n",
       "      <td>5</td>\n",
       "      <td>1022.2</td>\n",
       "      <td>16.1</td>\n",
       "      <td>13.8</td>\n",
       "      <td>6.4</td>\n",
       "      <td>4.3</td>\n",
       "      <td>68.0</td>\n",
       "      <td>49.0</td>\n",
       "      <td>9.2</td>\n",
       "      <td>20.0</td>\n",
       "      <td>19.4</td>\n",
       "    </tr>\n",
       "  </tbody>\n",
       "</table>\n",
       "</div>"
      ],
      "text/plain": [
       "     id  day  pressure  maxtemp  temparature  mintemp  dewpoint  humidity  \\\n",
       "0  2190    1    1019.5     17.5         15.8     12.7      14.9      96.0   \n",
       "1  2191    2    1016.5     17.5         16.5     15.8      15.1      97.0   \n",
       "2  2192    3    1023.9     11.2         10.4      9.4       8.9      86.0   \n",
       "3  2193    4    1022.9     20.6         17.3     15.2       9.5      75.0   \n",
       "4  2194    5    1022.2     16.1         13.8      6.4       4.3      68.0   \n",
       "\n",
       "   cloud  sunshine  winddirection  windspeed  \n",
       "0   99.0       0.0           50.0       24.3  \n",
       "1   99.0       0.0           50.0       35.3  \n",
       "2   96.0       0.0           40.0       16.9  \n",
       "3   45.0       7.1           20.0       50.6  \n",
       "4   49.0       9.2           20.0       19.4  "
      ]
     },
     "execution_count": 3,
     "metadata": {},
     "output_type": "execute_result"
    }
   ],
   "source": [
    "test_data.head()"
   ]
  },
  {
   "cell_type": "code",
   "execution_count": 4,
   "id": "20870488",
   "metadata": {
    "execution": {
     "iopub.execute_input": "2025-03-28T18:40:15.511929Z",
     "iopub.status.busy": "2025-03-28T18:40:15.511552Z",
     "iopub.status.idle": "2025-03-28T18:40:15.525259Z",
     "shell.execute_reply": "2025-03-28T18:40:15.523652Z"
    },
    "papermill": {
     "duration": 0.021111,
     "end_time": "2025-03-28T18:40:15.527374",
     "exception": false,
     "start_time": "2025-03-28T18:40:15.506263",
     "status": "completed"
    },
    "tags": []
   },
   "outputs": [],
   "source": [
    "#X = train_data.drop(columns=['rainfall', 'id', 'day']) \n",
    "X = train_data[['humidity', 'sunshine', 'dewpoint', 'pressure', 'cloud', 'temparature']]\n",
    "y = train_data['rainfall'] "
   ]
  },
  {
   "cell_type": "code",
   "execution_count": 5,
   "id": "967e623a",
   "metadata": {
    "execution": {
     "iopub.execute_input": "2025-03-28T18:40:15.537485Z",
     "iopub.status.busy": "2025-03-28T18:40:15.537092Z",
     "iopub.status.idle": "2025-03-28T18:40:17.251695Z",
     "shell.execute_reply": "2025-03-28T18:40:17.250223Z"
    },
    "papermill": {
     "duration": 1.721935,
     "end_time": "2025-03-28T18:40:17.253783",
     "exception": false,
     "start_time": "2025-03-28T18:40:15.531848",
     "status": "completed"
    },
    "tags": []
   },
   "outputs": [
    {
     "name": "stdout",
     "output_type": "stream",
     "text": [
      "(1752, 6) (438, 6)\n"
     ]
    }
   ],
   "source": [
    "from sklearn.model_selection import train_test_split\n",
    "\n",
    "# Split the data: 80% for training, 20% for testing\n",
    "X_train, X_test, y_train, y_test = train_test_split(X, y, test_size=0.2, random_state=42)\n",
    "\n",
    "# Видаляємо ті ж самі колонки з test_data\n",
    "test_features = test_data.drop(columns=['id', 'day'])\n",
    "test_features = test_features[X_train.columns]\n",
    "\n",
    "# Check the size\n",
    "print(X_train.shape, X_test.shape)\n"
   ]
  },
  {
   "cell_type": "code",
   "execution_count": 6,
   "id": "a6e9f318",
   "metadata": {
    "execution": {
     "iopub.execute_input": "2025-03-28T18:40:17.264577Z",
     "iopub.status.busy": "2025-03-28T18:40:17.263927Z",
     "iopub.status.idle": "2025-03-28T18:40:20.133790Z",
     "shell.execute_reply": "2025-03-28T18:40:20.132210Z"
    },
    "papermill": {
     "duration": 2.877767,
     "end_time": "2025-03-28T18:40:20.136230",
     "exception": false,
     "start_time": "2025-03-28T18:40:17.258463",
     "status": "completed"
    },
    "tags": []
   },
   "outputs": [
    {
     "name": "stdout",
     "output_type": "stream",
     "text": [
      "n_estimators: 50, Accuracy: 0.8356\n",
      "n_estimators: 100, Accuracy: 0.8425\n",
      "n_estimators: 200, Accuracy: 0.8470\n",
      "n_estimators: 300, Accuracy: 0.8470\n",
      "cloud: 0.3214\n",
      "sunshine: 0.2216\n",
      "humidity: 0.1372\n",
      "dewpoint: 0.1123\n",
      "temparature: 0.1039\n",
      "pressure: 0.1037\n"
     ]
    }
   ],
   "source": [
    "from sklearn.ensemble import RandomForestClassifier\n",
    "from sklearn.metrics import accuracy_score\n",
    "\n",
    "for n in [50, 100, 200, 300]:\n",
    "    \n",
    "    model = RandomForestClassifier(n_estimators=n, random_state=42)\n",
    "    model.fit(X_train, y_train)\n",
    "    y_pred = model.predict(X_test)\n",
    "    accuracy = accuracy_score(y_test, y_pred)\n",
    "    print(f\"n_estimators: {n}, Accuracy: {accuracy:.4f}\")\n",
    "\n",
    "    \n",
    "\n",
    "    importances = model.feature_importances_\n",
    "    feature_names = X_train.columns\n",
    "\n",
    "\n",
    "\n",
    "# Сортуємо та виводимо найважливіші фічі\n",
    "sorted_features = sorted(zip(feature_names, importances), key=lambda x: x[1], reverse=True)\n",
    "for feature, importance in sorted_features:\n",
    "    print(f\"{feature}: {importance:.4f}\")"
   ]
  },
  {
   "cell_type": "code",
   "execution_count": 7,
   "id": "5f642c87",
   "metadata": {
    "execution": {
     "iopub.execute_input": "2025-03-28T18:40:20.148391Z",
     "iopub.status.busy": "2025-03-28T18:40:20.147897Z",
     "iopub.status.idle": "2025-03-28T18:40:20.153185Z",
     "shell.execute_reply": "2025-03-28T18:40:20.151551Z"
    },
    "papermill": {
     "duration": 0.014423,
     "end_time": "2025-03-28T18:40:20.155784",
     "exception": false,
     "start_time": "2025-03-28T18:40:20.141361",
     "status": "completed"
    },
    "tags": []
   },
   "outputs": [],
   "source": [
    "#from sklearn.metrics import accuracy_score\n",
    "\n",
    "#y_pred = model.predict(X_test)\n",
    "#accuracy = accuracy_score(y_test, y_pred)\n",
    "\n",
    "#print(f\"n_estimators: {n}, Accuracy: {accuracy:.4f}\")"
   ]
  },
  {
   "cell_type": "code",
   "execution_count": 8,
   "id": "e4b133e1",
   "metadata": {
    "execution": {
     "iopub.execute_input": "2025-03-28T18:40:20.167787Z",
     "iopub.status.busy": "2025-03-28T18:40:20.167388Z",
     "iopub.status.idle": "2025-03-28T18:40:20.175831Z",
     "shell.execute_reply": "2025-03-28T18:40:20.174322Z"
    },
    "papermill": {
     "duration": 0.017805,
     "end_time": "2025-03-28T18:40:20.178740",
     "exception": false,
     "start_time": "2025-03-28T18:40:20.160935",
     "status": "completed"
    },
    "tags": []
   },
   "outputs": [
    {
     "name": "stdout",
     "output_type": "stream",
     "text": [
      "humidity       float64\n",
      "sunshine       float64\n",
      "dewpoint       float64\n",
      "pressure       float64\n",
      "cloud          float64\n",
      "temparature    float64\n",
      "dtype: object\n",
      "humidity       float64\n",
      "sunshine       float64\n",
      "dewpoint       float64\n",
      "pressure       float64\n",
      "cloud          float64\n",
      "temparature    float64\n",
      "dtype: object\n"
     ]
    }
   ],
   "source": [
    "print(test_features.dtypes)\n",
    "print(X_train.dtypes)"
   ]
  },
  {
   "cell_type": "code",
   "execution_count": 9,
   "id": "2b897f7b",
   "metadata": {
    "execution": {
     "iopub.execute_input": "2025-03-28T18:40:20.189737Z",
     "iopub.status.busy": "2025-03-28T18:40:20.189394Z",
     "iopub.status.idle": "2025-03-28T18:40:20.196793Z",
     "shell.execute_reply": "2025-03-28T18:40:20.195397Z"
    },
    "papermill": {
     "duration": 0.015341,
     "end_time": "2025-03-28T18:40:20.198981",
     "exception": false,
     "start_time": "2025-03-28T18:40:20.183640",
     "status": "completed"
    },
    "tags": []
   },
   "outputs": [
    {
     "name": "stdout",
     "output_type": "stream",
     "text": [
      "humidity       0\n",
      "sunshine       0\n",
      "dewpoint       0\n",
      "pressure       0\n",
      "cloud          0\n",
      "temparature    0\n",
      "dtype: int64\n"
     ]
    }
   ],
   "source": [
    "print(test_features.isnull().sum())"
   ]
  },
  {
   "cell_type": "code",
   "execution_count": 10,
   "id": "aac59d79",
   "metadata": {
    "execution": {
     "iopub.execute_input": "2025-03-28T18:40:20.210220Z",
     "iopub.status.busy": "2025-03-28T18:40:20.209802Z",
     "iopub.status.idle": "2025-03-28T18:40:20.218060Z",
     "shell.execute_reply": "2025-03-28T18:40:20.216825Z"
    },
    "papermill": {
     "duration": 0.016221,
     "end_time": "2025-03-28T18:40:20.220302",
     "exception": false,
     "start_time": "2025-03-28T18:40:20.204081",
     "status": "completed"
    },
    "tags": []
   },
   "outputs": [],
   "source": [
    "test_features = test_features.fillna(test_features.mean())"
   ]
  },
  {
   "cell_type": "code",
   "execution_count": 11,
   "id": "7c06f462",
   "metadata": {
    "execution": {
     "iopub.execute_input": "2025-03-28T18:40:20.231604Z",
     "iopub.status.busy": "2025-03-28T18:40:20.231185Z",
     "iopub.status.idle": "2025-03-28T18:40:20.293884Z",
     "shell.execute_reply": "2025-03-28T18:40:20.292196Z"
    },
    "papermill": {
     "duration": 0.070527,
     "end_time": "2025-03-28T18:40:20.295683",
     "exception": false,
     "start_time": "2025-03-28T18:40:20.225156",
     "status": "completed"
    },
    "tags": []
   },
   "outputs": [
    {
     "name": "stdout",
     "output_type": "stream",
     "text": [
      "Submission file saved successfully!\n"
     ]
    }
   ],
   "source": [
    "# 1. Робимо передбачення для тестового набору Kaggle\n",
    "test_predictions = model.predict(test_features)\n",
    "\n",
    "# 2. Формуємо submission DataFrame\n",
    "submission = pd.DataFrame({\n",
    "    \"id\": test_data[\"id\"],  # ID з тестового набору\n",
    "    \"rainfall\": test_predictions  # Передбачені значення\n",
    "})\n",
    "\n",
    "# 3. Зберігаємо у CSV\n",
    "submission.to_csv(\"submission.csv\", index=False)\n",
    "print(\"Submission file saved successfully!\")"
   ]
  },
  {
   "cell_type": "code",
   "execution_count": 12,
   "id": "993029f3",
   "metadata": {
    "execution": {
     "iopub.execute_input": "2025-03-28T18:40:20.307179Z",
     "iopub.status.busy": "2025-03-28T18:40:20.306725Z",
     "iopub.status.idle": "2025-03-28T18:40:20.442382Z",
     "shell.execute_reply": "2025-03-28T18:40:20.440566Z"
    },
    "papermill": {
     "duration": 0.144062,
     "end_time": "2025-03-28T18:40:20.444831",
     "exception": false,
     "start_time": "2025-03-28T18:40:20.300769",
     "status": "completed"
    },
    "tags": []
   },
   "outputs": [
    {
     "name": "stdout",
     "output_type": "stream",
     "text": [
      "__notebook__.ipynb  submission.csv\r\n"
     ]
    }
   ],
   "source": [
    "!ls /kaggle/working/"
   ]
  },
  {
   "cell_type": "code",
   "execution_count": 13,
   "id": "3083ecc3",
   "metadata": {
    "execution": {
     "iopub.execute_input": "2025-03-28T18:40:20.456533Z",
     "iopub.status.busy": "2025-03-28T18:40:20.456121Z",
     "iopub.status.idle": "2025-03-28T18:40:20.591937Z",
     "shell.execute_reply": "2025-03-28T18:40:20.590166Z"
    },
    "papermill": {
     "duration": 0.144748,
     "end_time": "2025-03-28T18:40:20.594581",
     "exception": false,
     "start_time": "2025-03-28T18:40:20.449833",
     "status": "completed"
    },
    "tags": []
   },
   "outputs": [
    {
     "name": "stdout",
     "output_type": "stream",
     "text": [
      "id,rainfall\r\n",
      "2190,1\r\n",
      "2191,1\r\n",
      "2192,1\r\n",
      "2193,0\r\n",
      "2194,0\r\n",
      "2195,1\r\n",
      "2196,1\r\n",
      "2197,1\r\n",
      "2198,1\r\n"
     ]
    }
   ],
   "source": [
    "!head submission.csv"
   ]
  }
 ],
 "metadata": {
  "kaggle": {
   "accelerator": "none",
   "dataSources": [
    {
     "databundleVersionId": 11251744,
     "sourceId": 91714,
     "sourceType": "competition"
    }
   ],
   "dockerImageVersionId": 30918,
   "isGpuEnabled": false,
   "isInternetEnabled": true,
   "language": "python",
   "sourceType": "notebook"
  },
  "kernelspec": {
   "display_name": "Python 3",
   "language": "python",
   "name": "python3"
  },
  "language_info": {
   "codemirror_mode": {
    "name": "ipython",
    "version": 3
   },
   "file_extension": ".py",
   "mimetype": "text/x-python",
   "name": "python",
   "nbconvert_exporter": "python",
   "pygments_lexer": "ipython3",
   "version": "3.10.12"
  },
  "papermill": {
   "default_parameters": {},
   "duration": 10.453733,
   "end_time": "2025-03-28T18:40:21.523829",
   "environment_variables": {},
   "exception": null,
   "input_path": "__notebook__.ipynb",
   "output_path": "__notebook__.ipynb",
   "parameters": {},
   "start_time": "2025-03-28T18:40:11.070096",
   "version": "2.6.0"
  }
 },
 "nbformat": 4,
 "nbformat_minor": 5
}
