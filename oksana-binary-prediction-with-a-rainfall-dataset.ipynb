{
 "cells": [
  {
   "cell_type": "code",
   "execution_count": 1,
   "id": "69e727e0",
   "metadata": {
    "_cell_guid": "b1076dfc-b9ad-4769-8c92-a6c4dae69d19",
    "_uuid": "8f2839f25d086af736a60e9eeb907d3b93b6e0e5",
    "execution": {
     "iopub.execute_input": "2025-03-28T18:30:00.807164Z",
     "iopub.status.busy": "2025-03-28T18:30:00.806648Z",
     "iopub.status.idle": "2025-03-28T18:30:02.087622Z",
     "shell.execute_reply": "2025-03-28T18:30:02.085975Z"
    },
    "papermill": {
     "duration": 1.289183,
     "end_time": "2025-03-28T18:30:02.090211",
     "exception": false,
     "start_time": "2025-03-28T18:30:00.801028",
     "status": "completed"
    },
    "tags": []
   },
   "outputs": [
    {
     "name": "stdout",
     "output_type": "stream",
     "text": [
      "/kaggle/input/playground-series-s5e3/sample_submission.csv\n",
      "/kaggle/input/playground-series-s5e3/train.csv\n",
      "/kaggle/input/playground-series-s5e3/test.csv\n"
     ]
    }
   ],
   "source": [
    "# This Python 3 environment comes with many helpful analytics libraries installed\n",
    "# It is defined by the kaggle/python Docker image: https://github.com/kaggle/docker-python\n",
    "# For example, here's several helpful packages to load\n",
    "\n",
    "import numpy as np # linear algebra\n",
    "import pandas as pd # data processing, CSV file I/O (e.g. pd.read_csv)\n",
    "\n",
    "# Input data files are available in the read-only \"../input/\" directory\n",
    "# For example, running this (by clicking run or pressing Shift+Enter) will list all files under the input directory\n",
    "\n",
    "import os\n",
    "for dirname, _, filenames in os.walk('/kaggle/input'):\n",
    "    for filename in filenames:\n",
    "        print(os.path.join(dirname, filename))\n",
    "\n",
    "# You can write up to 20GB to the current directory (/kaggle/working/) that gets preserved as output when you create a version using \"Save & Run All\" \n",
    "# You can also write temporary files to /kaggle/temp/, but they won't be saved outside of the current session"
   ]
  },
  {
   "cell_type": "code",
   "execution_count": 2,
   "id": "8b436d1b",
   "metadata": {
    "execution": {
     "iopub.execute_input": "2025-03-28T18:30:02.100138Z",
     "iopub.status.busy": "2025-03-28T18:30:02.099479Z",
     "iopub.status.idle": "2025-03-28T18:30:02.172067Z",
     "shell.execute_reply": "2025-03-28T18:30:02.170468Z"
    },
    "papermill": {
     "duration": 0.079781,
     "end_time": "2025-03-28T18:30:02.174335",
     "exception": false,
     "start_time": "2025-03-28T18:30:02.094554",
     "status": "completed"
    },
    "tags": []
   },
   "outputs": [
    {
     "data": {
      "text/html": [
       "<div>\n",
       "<style scoped>\n",
       "    .dataframe tbody tr th:only-of-type {\n",
       "        vertical-align: middle;\n",
       "    }\n",
       "\n",
       "    .dataframe tbody tr th {\n",
       "        vertical-align: top;\n",
       "    }\n",
       "\n",
       "    .dataframe thead th {\n",
       "        text-align: right;\n",
       "    }\n",
       "</style>\n",
       "<table border=\"1\" class=\"dataframe\">\n",
       "  <thead>\n",
       "    <tr style=\"text-align: right;\">\n",
       "      <th></th>\n",
       "      <th>id</th>\n",
       "      <th>day</th>\n",
       "      <th>pressure</th>\n",
       "      <th>maxtemp</th>\n",
       "      <th>temparature</th>\n",
       "      <th>mintemp</th>\n",
       "      <th>dewpoint</th>\n",
       "      <th>humidity</th>\n",
       "      <th>cloud</th>\n",
       "      <th>sunshine</th>\n",
       "      <th>winddirection</th>\n",
       "      <th>windspeed</th>\n",
       "      <th>rainfall</th>\n",
       "    </tr>\n",
       "  </thead>\n",
       "  <tbody>\n",
       "    <tr>\n",
       "      <th>0</th>\n",
       "      <td>0</td>\n",
       "      <td>1</td>\n",
       "      <td>1017.4</td>\n",
       "      <td>21.2</td>\n",
       "      <td>20.6</td>\n",
       "      <td>19.9</td>\n",
       "      <td>19.4</td>\n",
       "      <td>87.0</td>\n",
       "      <td>88.0</td>\n",
       "      <td>1.1</td>\n",
       "      <td>60.0</td>\n",
       "      <td>17.2</td>\n",
       "      <td>1</td>\n",
       "    </tr>\n",
       "    <tr>\n",
       "      <th>1</th>\n",
       "      <td>1</td>\n",
       "      <td>2</td>\n",
       "      <td>1019.5</td>\n",
       "      <td>16.2</td>\n",
       "      <td>16.9</td>\n",
       "      <td>15.8</td>\n",
       "      <td>15.4</td>\n",
       "      <td>95.0</td>\n",
       "      <td>91.0</td>\n",
       "      <td>0.0</td>\n",
       "      <td>50.0</td>\n",
       "      <td>21.9</td>\n",
       "      <td>1</td>\n",
       "    </tr>\n",
       "    <tr>\n",
       "      <th>2</th>\n",
       "      <td>2</td>\n",
       "      <td>3</td>\n",
       "      <td>1024.1</td>\n",
       "      <td>19.4</td>\n",
       "      <td>16.1</td>\n",
       "      <td>14.6</td>\n",
       "      <td>9.3</td>\n",
       "      <td>75.0</td>\n",
       "      <td>47.0</td>\n",
       "      <td>8.3</td>\n",
       "      <td>70.0</td>\n",
       "      <td>18.1</td>\n",
       "      <td>1</td>\n",
       "    </tr>\n",
       "    <tr>\n",
       "      <th>3</th>\n",
       "      <td>3</td>\n",
       "      <td>4</td>\n",
       "      <td>1013.4</td>\n",
       "      <td>18.1</td>\n",
       "      <td>17.8</td>\n",
       "      <td>16.9</td>\n",
       "      <td>16.8</td>\n",
       "      <td>95.0</td>\n",
       "      <td>95.0</td>\n",
       "      <td>0.0</td>\n",
       "      <td>60.0</td>\n",
       "      <td>35.6</td>\n",
       "      <td>1</td>\n",
       "    </tr>\n",
       "    <tr>\n",
       "      <th>4</th>\n",
       "      <td>4</td>\n",
       "      <td>5</td>\n",
       "      <td>1021.8</td>\n",
       "      <td>21.3</td>\n",
       "      <td>18.4</td>\n",
       "      <td>15.2</td>\n",
       "      <td>9.6</td>\n",
       "      <td>52.0</td>\n",
       "      <td>45.0</td>\n",
       "      <td>3.6</td>\n",
       "      <td>40.0</td>\n",
       "      <td>24.8</td>\n",
       "      <td>0</td>\n",
       "    </tr>\n",
       "  </tbody>\n",
       "</table>\n",
       "</div>"
      ],
      "text/plain": [
       "   id  day  pressure  maxtemp  temparature  mintemp  dewpoint  humidity  \\\n",
       "0   0    1    1017.4     21.2         20.6     19.9      19.4      87.0   \n",
       "1   1    2    1019.5     16.2         16.9     15.8      15.4      95.0   \n",
       "2   2    3    1024.1     19.4         16.1     14.6       9.3      75.0   \n",
       "3   3    4    1013.4     18.1         17.8     16.9      16.8      95.0   \n",
       "4   4    5    1021.8     21.3         18.4     15.2       9.6      52.0   \n",
       "\n",
       "   cloud  sunshine  winddirection  windspeed  rainfall  \n",
       "0   88.0       1.1           60.0       17.2         1  \n",
       "1   91.0       0.0           50.0       21.9         1  \n",
       "2   47.0       8.3           70.0       18.1         1  \n",
       "3   95.0       0.0           60.0       35.6         1  \n",
       "4   45.0       3.6           40.0       24.8         0  "
      ]
     },
     "execution_count": 2,
     "metadata": {},
     "output_type": "execute_result"
    }
   ],
   "source": [
    "train_path = \"/kaggle/input/playground-series-s5e3/train.csv\"\n",
    "test_path = \"/kaggle/input/playground-series-s5e3/test.csv\"\n",
    "\n",
    "train_data = pd.read_csv(train_path)\n",
    "test_data = pd.read_csv(test_path)\n",
    "\n",
    "train_data.head()"
   ]
  },
  {
   "cell_type": "code",
   "execution_count": 3,
   "id": "990b969d",
   "metadata": {
    "execution": {
     "iopub.execute_input": "2025-03-28T18:30:02.183834Z",
     "iopub.status.busy": "2025-03-28T18:30:02.183415Z",
     "iopub.status.idle": "2025-03-28T18:30:02.203774Z",
     "shell.execute_reply": "2025-03-28T18:30:02.202397Z"
    },
    "papermill": {
     "duration": 0.027433,
     "end_time": "2025-03-28T18:30:02.205796",
     "exception": false,
     "start_time": "2025-03-28T18:30:02.178363",
     "status": "completed"
    },
    "tags": []
   },
   "outputs": [
    {
     "data": {
      "text/html": [
       "<div>\n",
       "<style scoped>\n",
       "    .dataframe tbody tr th:only-of-type {\n",
       "        vertical-align: middle;\n",
       "    }\n",
       "\n",
       "    .dataframe tbody tr th {\n",
       "        vertical-align: top;\n",
       "    }\n",
       "\n",
       "    .dataframe thead th {\n",
       "        text-align: right;\n",
       "    }\n",
       "</style>\n",
       "<table border=\"1\" class=\"dataframe\">\n",
       "  <thead>\n",
       "    <tr style=\"text-align: right;\">\n",
       "      <th></th>\n",
       "      <th>id</th>\n",
       "      <th>day</th>\n",
       "      <th>pressure</th>\n",
       "      <th>maxtemp</th>\n",
       "      <th>temparature</th>\n",
       "      <th>mintemp</th>\n",
       "      <th>dewpoint</th>\n",
       "      <th>humidity</th>\n",
       "      <th>cloud</th>\n",
       "      <th>sunshine</th>\n",
       "      <th>winddirection</th>\n",
       "      <th>windspeed</th>\n",
       "    </tr>\n",
       "  </thead>\n",
       "  <tbody>\n",
       "    <tr>\n",
       "      <th>0</th>\n",
       "      <td>2190</td>\n",
       "      <td>1</td>\n",
       "      <td>1019.5</td>\n",
       "      <td>17.5</td>\n",
       "      <td>15.8</td>\n",
       "      <td>12.7</td>\n",
       "      <td>14.9</td>\n",
       "      <td>96.0</td>\n",
       "      <td>99.0</td>\n",
       "      <td>0.0</td>\n",
       "      <td>50.0</td>\n",
       "      <td>24.3</td>\n",
       "    </tr>\n",
       "    <tr>\n",
       "      <th>1</th>\n",
       "      <td>2191</td>\n",
       "      <td>2</td>\n",
       "      <td>1016.5</td>\n",
       "      <td>17.5</td>\n",
       "      <td>16.5</td>\n",
       "      <td>15.8</td>\n",
       "      <td>15.1</td>\n",
       "      <td>97.0</td>\n",
       "      <td>99.0</td>\n",
       "      <td>0.0</td>\n",
       "      <td>50.0</td>\n",
       "      <td>35.3</td>\n",
       "    </tr>\n",
       "    <tr>\n",
       "      <th>2</th>\n",
       "      <td>2192</td>\n",
       "      <td>3</td>\n",
       "      <td>1023.9</td>\n",
       "      <td>11.2</td>\n",
       "      <td>10.4</td>\n",
       "      <td>9.4</td>\n",
       "      <td>8.9</td>\n",
       "      <td>86.0</td>\n",
       "      <td>96.0</td>\n",
       "      <td>0.0</td>\n",
       "      <td>40.0</td>\n",
       "      <td>16.9</td>\n",
       "    </tr>\n",
       "    <tr>\n",
       "      <th>3</th>\n",
       "      <td>2193</td>\n",
       "      <td>4</td>\n",
       "      <td>1022.9</td>\n",
       "      <td>20.6</td>\n",
       "      <td>17.3</td>\n",
       "      <td>15.2</td>\n",
       "      <td>9.5</td>\n",
       "      <td>75.0</td>\n",
       "      <td>45.0</td>\n",
       "      <td>7.1</td>\n",
       "      <td>20.0</td>\n",
       "      <td>50.6</td>\n",
       "    </tr>\n",
       "    <tr>\n",
       "      <th>4</th>\n",
       "      <td>2194</td>\n",
       "      <td>5</td>\n",
       "      <td>1022.2</td>\n",
       "      <td>16.1</td>\n",
       "      <td>13.8</td>\n",
       "      <td>6.4</td>\n",
       "      <td>4.3</td>\n",
       "      <td>68.0</td>\n",
       "      <td>49.0</td>\n",
       "      <td>9.2</td>\n",
       "      <td>20.0</td>\n",
       "      <td>19.4</td>\n",
       "    </tr>\n",
       "  </tbody>\n",
       "</table>\n",
       "</div>"
      ],
      "text/plain": [
       "     id  day  pressure  maxtemp  temparature  mintemp  dewpoint  humidity  \\\n",
       "0  2190    1    1019.5     17.5         15.8     12.7      14.9      96.0   \n",
       "1  2191    2    1016.5     17.5         16.5     15.8      15.1      97.0   \n",
       "2  2192    3    1023.9     11.2         10.4      9.4       8.9      86.0   \n",
       "3  2193    4    1022.9     20.6         17.3     15.2       9.5      75.0   \n",
       "4  2194    5    1022.2     16.1         13.8      6.4       4.3      68.0   \n",
       "\n",
       "   cloud  sunshine  winddirection  windspeed  \n",
       "0   99.0       0.0           50.0       24.3  \n",
       "1   99.0       0.0           50.0       35.3  \n",
       "2   96.0       0.0           40.0       16.9  \n",
       "3   45.0       7.1           20.0       50.6  \n",
       "4   49.0       9.2           20.0       19.4  "
      ]
     },
     "execution_count": 3,
     "metadata": {},
     "output_type": "execute_result"
    }
   ],
   "source": [
    "test_data.head()"
   ]
  },
  {
   "cell_type": "code",
   "execution_count": 4,
   "id": "78232731",
   "metadata": {
    "execution": {
     "iopub.execute_input": "2025-03-28T18:30:02.215489Z",
     "iopub.status.busy": "2025-03-28T18:30:02.214999Z",
     "iopub.status.idle": "2025-03-28T18:30:02.228964Z",
     "shell.execute_reply": "2025-03-28T18:30:02.227768Z"
    },
    "papermill": {
     "duration": 0.021272,
     "end_time": "2025-03-28T18:30:02.231174",
     "exception": false,
     "start_time": "2025-03-28T18:30:02.209902",
     "status": "completed"
    },
    "tags": []
   },
   "outputs": [],
   "source": [
    "#X = train_data.drop(columns=['rainfall', 'id', 'day']) \n",
    "X = train_data[['humidity', 'sunshine', 'dewpoint', 'pressure', 'cloud', 'temparature']]\n",
    "y = train_data['rainfall'] "
   ]
  },
  {
   "cell_type": "code",
   "execution_count": 5,
   "id": "9e6f4983",
   "metadata": {
    "execution": {
     "iopub.execute_input": "2025-03-28T18:30:02.242048Z",
     "iopub.status.busy": "2025-03-28T18:30:02.241672Z",
     "iopub.status.idle": "2025-03-28T18:30:04.013602Z",
     "shell.execute_reply": "2025-03-28T18:30:04.011994Z"
    },
    "papermill": {
     "duration": 1.779666,
     "end_time": "2025-03-28T18:30:04.015686",
     "exception": false,
     "start_time": "2025-03-28T18:30:02.236020",
     "status": "completed"
    },
    "tags": []
   },
   "outputs": [
    {
     "name": "stdout",
     "output_type": "stream",
     "text": [
      "(1752, 6) (438, 6)\n"
     ]
    }
   ],
   "source": [
    "from sklearn.model_selection import train_test_split\n",
    "\n",
    "# Split the data: 80% for training, 20% for testing\n",
    "X_train, X_test, y_train, y_test = train_test_split(X, y, test_size=0.2, random_state=42)\n",
    "\n",
    "# Видаляємо ті ж самі колонки з test_data\n",
    "test_features = test_data.drop(columns=['id', 'day'])\n",
    "test_features = test_features[X_train.columns]\n",
    "\n",
    "# Check the size\n",
    "print(X_train.shape, X_test.shape)\n"
   ]
  },
  {
   "cell_type": "code",
   "execution_count": 6,
   "id": "d8e6941c",
   "metadata": {
    "execution": {
     "iopub.execute_input": "2025-03-28T18:30:04.027209Z",
     "iopub.status.busy": "2025-03-28T18:30:04.026581Z",
     "iopub.status.idle": "2025-03-28T18:30:05.925605Z",
     "shell.execute_reply": "2025-03-28T18:30:05.924132Z"
    },
    "papermill": {
     "duration": 1.907069,
     "end_time": "2025-03-28T18:30:05.927673",
     "exception": false,
     "start_time": "2025-03-28T18:30:04.020604",
     "status": "completed"
    },
    "tags": []
   },
   "outputs": [
    {
     "name": "stdout",
     "output_type": "stream",
     "text": [
      "cloud: 0.3174\n",
      "sunshine: 0.2301\n",
      "humidity: 0.1347\n",
      "dewpoint: 0.1109\n",
      "pressure: 0.1056\n",
      "temparature: 0.1013\n"
     ]
    }
   ],
   "source": [
    "from sklearn.ensemble import RandomForestClassifier\n",
    "\n",
    "for n in [50, 100, 200, 300]:\n",
    "    \n",
    "    model = RandomForestClassifier(n_estimators=100, random_state=42)\n",
    "    model.fit(X_train, y_train)\n",
    "\n",
    "    importances = model.feature_importances_\n",
    "    feature_names = X_train.columns\n",
    "\n",
    "\n",
    "\n",
    "# Сортуємо та виводимо найважливіші фічі\n",
    "sorted_features = sorted(zip(feature_names, importances), key=lambda x: x[1], reverse=True)\n",
    "for feature, importance in sorted_features:\n",
    "    print(f\"{feature}: {importance:.4f}\")"
   ]
  },
  {
   "cell_type": "code",
   "execution_count": 7,
   "id": "9eaabe14",
   "metadata": {
    "execution": {
     "iopub.execute_input": "2025-03-28T18:30:05.938003Z",
     "iopub.status.busy": "2025-03-28T18:30:05.937572Z",
     "iopub.status.idle": "2025-03-28T18:30:05.960945Z",
     "shell.execute_reply": "2025-03-28T18:30:05.959313Z"
    },
    "papermill": {
     "duration": 0.031177,
     "end_time": "2025-03-28T18:30:05.963242",
     "exception": false,
     "start_time": "2025-03-28T18:30:05.932065",
     "status": "completed"
    },
    "tags": []
   },
   "outputs": [
    {
     "name": "stdout",
     "output_type": "stream",
     "text": [
      "n_estimators: 300, Accuracy: 0.8425\n"
     ]
    }
   ],
   "source": [
    "from sklearn.metrics import accuracy_score\n",
    "\n",
    "y_pred = model.predict(X_test)\n",
    "accuracy = accuracy_score(y_test, y_pred)\n",
    "\n",
    "print(f\"n_estimators: {n}, Accuracy: {accuracy:.4f}\")"
   ]
  },
  {
   "cell_type": "code",
   "execution_count": 8,
   "id": "44b56778",
   "metadata": {
    "execution": {
     "iopub.execute_input": "2025-03-28T18:30:05.974109Z",
     "iopub.status.busy": "2025-03-28T18:30:05.973711Z",
     "iopub.status.idle": "2025-03-28T18:30:05.982395Z",
     "shell.execute_reply": "2025-03-28T18:30:05.980577Z"
    },
    "papermill": {
     "duration": 0.0167,
     "end_time": "2025-03-28T18:30:05.984617",
     "exception": false,
     "start_time": "2025-03-28T18:30:05.967917",
     "status": "completed"
    },
    "tags": []
   },
   "outputs": [
    {
     "name": "stdout",
     "output_type": "stream",
     "text": [
      "humidity       float64\n",
      "sunshine       float64\n",
      "dewpoint       float64\n",
      "pressure       float64\n",
      "cloud          float64\n",
      "temparature    float64\n",
      "dtype: object\n",
      "humidity       float64\n",
      "sunshine       float64\n",
      "dewpoint       float64\n",
      "pressure       float64\n",
      "cloud          float64\n",
      "temparature    float64\n",
      "dtype: object\n"
     ]
    }
   ],
   "source": [
    "print(test_features.dtypes)\n",
    "print(X_train.dtypes)"
   ]
  },
  {
   "cell_type": "code",
   "execution_count": 9,
   "id": "a2f3d417",
   "metadata": {
    "execution": {
     "iopub.execute_input": "2025-03-28T18:30:05.995759Z",
     "iopub.status.busy": "2025-03-28T18:30:05.995318Z",
     "iopub.status.idle": "2025-03-28T18:30:06.003518Z",
     "shell.execute_reply": "2025-03-28T18:30:06.001624Z"
    },
    "papermill": {
     "duration": 0.01703,
     "end_time": "2025-03-28T18:30:06.006483",
     "exception": false,
     "start_time": "2025-03-28T18:30:05.989453",
     "status": "completed"
    },
    "tags": []
   },
   "outputs": [
    {
     "name": "stdout",
     "output_type": "stream",
     "text": [
      "humidity       0\n",
      "sunshine       0\n",
      "dewpoint       0\n",
      "pressure       0\n",
      "cloud          0\n",
      "temparature    0\n",
      "dtype: int64\n"
     ]
    }
   ],
   "source": [
    "print(test_features.isnull().sum())"
   ]
  },
  {
   "cell_type": "code",
   "execution_count": 10,
   "id": "564f63b8",
   "metadata": {
    "execution": {
     "iopub.execute_input": "2025-03-28T18:30:06.018026Z",
     "iopub.status.busy": "2025-03-28T18:30:06.017595Z",
     "iopub.status.idle": "2025-03-28T18:30:06.027057Z",
     "shell.execute_reply": "2025-03-28T18:30:06.025806Z"
    },
    "papermill": {
     "duration": 0.01763,
     "end_time": "2025-03-28T18:30:06.029103",
     "exception": false,
     "start_time": "2025-03-28T18:30:06.011473",
     "status": "completed"
    },
    "tags": []
   },
   "outputs": [],
   "source": [
    "test_features = test_features.fillna(test_features.mean())"
   ]
  },
  {
   "cell_type": "code",
   "execution_count": 11,
   "id": "8c53d43e",
   "metadata": {
    "execution": {
     "iopub.execute_input": "2025-03-28T18:30:06.040447Z",
     "iopub.status.busy": "2025-03-28T18:30:06.040019Z",
     "iopub.status.idle": "2025-03-28T18:30:06.071654Z",
     "shell.execute_reply": "2025-03-28T18:30:06.070220Z"
    },
    "papermill": {
     "duration": 0.039823,
     "end_time": "2025-03-28T18:30:06.073837",
     "exception": false,
     "start_time": "2025-03-28T18:30:06.034014",
     "status": "completed"
    },
    "tags": []
   },
   "outputs": [
    {
     "name": "stdout",
     "output_type": "stream",
     "text": [
      "Submission file saved successfully!\n"
     ]
    }
   ],
   "source": [
    "# 1. Робимо передбачення для тестового набору Kaggle\n",
    "test_predictions = model.predict(test_features)\n",
    "\n",
    "# 2. Формуємо submission DataFrame\n",
    "submission = pd.DataFrame({\n",
    "    \"id\": test_data[\"id\"],  # ID з тестового набору\n",
    "    \"rainfall\": test_predictions  # Передбачені значення\n",
    "})\n",
    "\n",
    "# 3. Зберігаємо у CSV\n",
    "submission.to_csv(\"submission.csv\", index=False)\n",
    "print(\"Submission file saved successfully!\")"
   ]
  },
  {
   "cell_type": "code",
   "execution_count": 12,
   "id": "2c0eef08",
   "metadata": {
    "execution": {
     "iopub.execute_input": "2025-03-28T18:30:06.085389Z",
     "iopub.status.busy": "2025-03-28T18:30:06.084947Z",
     "iopub.status.idle": "2025-03-28T18:30:06.220188Z",
     "shell.execute_reply": "2025-03-28T18:30:06.218501Z"
    },
    "papermill": {
     "duration": 0.143701,
     "end_time": "2025-03-28T18:30:06.222663",
     "exception": false,
     "start_time": "2025-03-28T18:30:06.078962",
     "status": "completed"
    },
    "tags": []
   },
   "outputs": [
    {
     "name": "stdout",
     "output_type": "stream",
     "text": [
      "__notebook__.ipynb  submission.csv\r\n"
     ]
    }
   ],
   "source": [
    "!ls /kaggle/working/"
   ]
  },
  {
   "cell_type": "code",
   "execution_count": 13,
   "id": "4e38f840",
   "metadata": {
    "execution": {
     "iopub.execute_input": "2025-03-28T18:30:06.234299Z",
     "iopub.status.busy": "2025-03-28T18:30:06.233858Z",
     "iopub.status.idle": "2025-03-28T18:30:06.368021Z",
     "shell.execute_reply": "2025-03-28T18:30:06.366368Z"
    },
    "papermill": {
     "duration": 0.143216,
     "end_time": "2025-03-28T18:30:06.370913",
     "exception": false,
     "start_time": "2025-03-28T18:30:06.227697",
     "status": "completed"
    },
    "tags": []
   },
   "outputs": [
    {
     "name": "stdout",
     "output_type": "stream",
     "text": [
      "id,rainfall\r\n",
      "2190,1\r\n",
      "2191,1\r\n",
      "2192,1\r\n",
      "2193,0\r\n",
      "2194,0\r\n",
      "2195,1\r\n",
      "2196,1\r\n",
      "2197,1\r\n",
      "2198,1\r\n"
     ]
    }
   ],
   "source": [
    "!head submission.csv"
   ]
  }
 ],
 "metadata": {
  "kaggle": {
   "accelerator": "none",
   "dataSources": [
    {
     "databundleVersionId": 11251744,
     "sourceId": 91714,
     "sourceType": "competition"
    }
   ],
   "dockerImageVersionId": 30918,
   "isGpuEnabled": false,
   "isInternetEnabled": true,
   "language": "python",
   "sourceType": "notebook"
  },
  "kernelspec": {
   "display_name": "Python 3",
   "language": "python",
   "name": "python3"
  },
  "language_info": {
   "codemirror_mode": {
    "name": "ipython",
    "version": 3
   },
   "file_extension": ".py",
   "mimetype": "text/x-python",
   "name": "python",
   "nbconvert_exporter": "python",
   "pygments_lexer": "ipython3",
   "version": "3.10.12"
  },
  "papermill": {
   "default_parameters": {},
   "duration": 9.670162,
   "end_time": "2025-03-28T18:30:07.301243",
   "environment_variables": {},
   "exception": null,
   "input_path": "__notebook__.ipynb",
   "output_path": "__notebook__.ipynb",
   "parameters": {},
   "start_time": "2025-03-28T18:29:57.631081",
   "version": "2.6.0"
  }
 },
 "nbformat": 4,
 "nbformat_minor": 5
}
